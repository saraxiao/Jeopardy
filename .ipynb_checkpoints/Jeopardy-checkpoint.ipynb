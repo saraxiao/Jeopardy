{
 "cells": [
  {
   "cell_type": "code",
   "execution_count": 1,
   "metadata": {},
   "outputs": [],
   "source": [
    "import pandas as pd\n",
    "import string\n",
    "import nltk\n",
    "from nltk.corpus import stopwords"
   ]
  },
  {
   "cell_type": "code",
   "execution_count": 2,
   "metadata": {},
   "outputs": [
    {
     "name": "stdout",
     "output_type": "stream",
     "text": [
      "(216930, 7)\n",
      "Index(['Show Number', 'Air Date', 'Round', 'Category', 'Value', 'Question',\n",
      "       'Answer'],\n",
      "      dtype='object')\n"
     ]
    }
   ],
   "source": [
    "jeopardy = pd.read_csv('JEOPARDY_CSV.csv')\n",
    "print(jeopardy.shape)\n",
    "jeopardy.columns=jeopardy.columns.str.strip()\n",
    "print(jeopardy.columns)"
   ]
  },
  {
   "cell_type": "code",
   "execution_count": 3,
   "metadata": {},
   "outputs": [
    {
     "name": "stdout",
     "output_type": "stream",
     "text": [
      "   Show Number    Air Date      Round                         Category Value  \\\n",
      "0         4680  2004-12-31  Jeopardy!                          HISTORY  $200   \n",
      "1         4680  2004-12-31  Jeopardy!  ESPN's TOP 10 ALL-TIME ATHLETES  $200   \n",
      "2         4680  2004-12-31  Jeopardy!      EVERYBODY TALKS ABOUT IT...  $200   \n",
      "3         4680  2004-12-31  Jeopardy!                 THE COMPANY LINE  $200   \n",
      "4         4680  2004-12-31  Jeopardy!              EPITAPHS & TRIBUTES  $200   \n",
      "\n",
      "                                            Question      Answer  \\\n",
      "0  For the last 8 years of his life, Galileo was ...  Copernicus   \n",
      "1  No. 2: 1912 Olympian; football star at Carlisl...  Jim Thorpe   \n",
      "2  The city of Yuma in this state has a record av...     Arizona   \n",
      "3  In 1963, live on \"The Art Linkletter Show\", th...  McDonald's   \n",
      "4  Signer of the Dec. of Indep., framer of the Co...  John Adams   \n",
      "\n",
      "                                      clean_question clean_answer  \n",
      "0  for the last 8 years of his life galileo was u...   copernicus  \n",
      "1  no 2 1912 olympian football star at carlisle i...   jim thorpe  \n",
      "2  the city of yuma in this state has a record av...      arizona  \n",
      "3  in 1963 live on the art linkletter show this c...    mcdonalds  \n",
      "4  signer of the dec of indep framer of the const...   john adams  \n"
     ]
    }
   ],
   "source": [
    "def remove_punctuation(x):\n",
    "    table = str.maketrans({key: None for key in string.punctuation})\n",
    "    return x.translate(table)\n",
    "def str_norm(s):\n",
    "    s=s.lower()\n",
    "    s=remove_punctuation(s)\n",
    "    return s\n",
    "jeopardy['clean_question']=jeopardy['Question'].apply(str_norm)\n",
    "jeopardy['Answer']=jeopardy['Answer'].astype(str)\n",
    "jeopardy['clean_answer']=jeopardy['Answer'].apply(str_norm)\n",
    "print(jeopardy.head())"
   ]
  },
  {
   "cell_type": "code",
   "execution_count": 4,
   "metadata": {},
   "outputs": [
    {
     "name": "stdout",
     "output_type": "stream",
     "text": [
      "   Show Number   Air Date      Round                         Category Value  \\\n",
      "0         4680 2004-12-31  Jeopardy!                          HISTORY  $200   \n",
      "1         4680 2004-12-31  Jeopardy!  ESPN's TOP 10 ALL-TIME ATHLETES  $200   \n",
      "2         4680 2004-12-31  Jeopardy!      EVERYBODY TALKS ABOUT IT...  $200   \n",
      "3         4680 2004-12-31  Jeopardy!                 THE COMPANY LINE  $200   \n",
      "4         4680 2004-12-31  Jeopardy!              EPITAPHS & TRIBUTES  $200   \n",
      "\n",
      "                                            Question      Answer  \\\n",
      "0  For the last 8 years of his life, Galileo was ...  Copernicus   \n",
      "1  No. 2: 1912 Olympian; football star at Carlisl...  Jim Thorpe   \n",
      "2  The city of Yuma in this state has a record av...     Arizona   \n",
      "3  In 1963, live on \"The Art Linkletter Show\", th...  McDonald's   \n",
      "4  Signer of the Dec. of Indep., framer of the Co...  John Adams   \n",
      "\n",
      "                                      clean_question clean_answer  clean_value  \n",
      "0  for the last 8 years of his life galileo was u...   copernicus          200  \n",
      "1  no 2 1912 olympian football star at carlisle i...   jim thorpe          200  \n",
      "2  the city of yuma in this state has a record av...      arizona          200  \n",
      "3  in 1963 live on the art linkletter show this c...    mcdonalds          200  \n",
      "4  signer of the dec of indep framer of the const...   john adams          200  \n"
     ]
    }
   ],
   "source": [
    "def dollar_norm(s):\n",
    "    s = remove_punctuation(s)\n",
    "    try:\n",
    "        i = int(s)\n",
    "    except:\n",
    "        i = 0\n",
    "    return i\n",
    "jeopardy['clean_value']=jeopardy['Value'].apply(dollar_norm)\n",
    "jeopardy['Air Date']=pd.to_datetime(jeopardy['Air Date'])\n",
    "print(jeopardy.head())"
   ]
  },
  {
   "cell_type": "markdown",
   "metadata": {},
   "source": [
    "The next analysis looks into the possibility of finding answers in the questions."
   ]
  },
  {
   "cell_type": "code",
   "execution_count": 5,
   "metadata": {
    "scrolled": true
   },
   "outputs": [
    {
     "name": "stdout",
     "output_type": "stream",
     "text": [
      "0.05729672120956456\n"
     ]
    }
   ],
   "source": [
    "def answer_in_question(row):\n",
    "    split_answer = row['clean_answer'].split()\n",
    "    split_question = row['clean_question'].split()\n",
    "    match_count = 0\n",
    "    split_answer = [c for c in split_answer if c != 'the']\n",
    "    if len(split_answer) == 0:\n",
    "        return 0\n",
    "    else:\n",
    "        for i in split_answer:\n",
    "            if i in split_question:\n",
    "                match_count += 1\n",
    "    return match_count/len(split_answer)\n",
    "jeopardy['answer_in_question']=jeopardy.apply(answer_in_question, axis=1)\n",
    "print(jeopardy['answer_in_question'].mean())       \n",
    "    "
   ]
  },
  {
   "cell_type": "markdown",
   "metadata": {},
   "source": [
    "On average, 5.7% of times the answer is deducible from the question."
   ]
  },
  {
   "cell_type": "markdown",
   "metadata": {},
   "source": [
    "The next analysis examines the probability of repeated terms in the questions. "
   ]
  },
  {
   "cell_type": "code",
   "execution_count": 6,
   "metadata": {},
   "outputs": [
    {
     "name": "stdout",
     "output_type": "stream",
     "text": [
      "0.9281511234778309\n"
     ]
    }
   ],
   "source": [
    "question_overlap = []\n",
    "terms_used = set()\n",
    "jeopardy = jeopardy.sort_values('Air Date')\n",
    "\n",
    "stop_words = set(stopwords.words('english'))\n",
    "\n",
    "def question_overlap(row):\n",
    "    split_question = row['clean_question'].split()\n",
    "    split_question = [c for c in split_question if c not in stop_words]\n",
    "    match_count = 0\n",
    "    for i in split_question:        \n",
    "        if i in terms_used:\n",
    "            match_count += 1\n",
    "        terms_used.add(i)\n",
    "    if len(split_question)>0:\n",
    "        return match_count / len(split_question)       \n",
    "    else:\n",
    "        return 0\n",
    "jeopardy['question_overlap'] = jeopardy.apply(question_overlap,axis=1)\n",
    "print(jeopardy['question_overlap'].mean())\n",
    "    "
   ]
  },
  {
   "cell_type": "markdown",
   "metadata": {},
   "source": [
    "On average, 92% of times the words in a new questions repeats from the old questions. However, single words don't capture the whole context of the question well. should use phrases instead of single words when seeing if there's overlap between questions. "
   ]
  },
  {
   "cell_type": "markdown",
   "metadata": {},
   "source": [
    "The next analysis investigates whether some term overlaps more in high_value questions than low_value questions."
   ]
  },
  {
   "cell_type": "code",
   "execution_count": 7,
   "metadata": {},
   "outputs": [],
   "source": [
    "def cate_value(row):\n",
    "    if row['clean_value']>800:\n",
    "        value = 1\n",
    "    else:\n",
    "        value = 0\n",
    "    return value\n",
    "\n",
    "jeopardy['high_value'] = jeopardy.apply(cate_value,axis=1)"
   ]
  },
  {
   "cell_type": "code",
   "execution_count": 8,
   "metadata": {},
   "outputs": [
    {
     "name": "stdout",
     "output_type": "stream",
     "text": [
      "['nandi', 'punahou', 'toinsult', 'clancys', 'cb']\n"
     ]
    }
   ],
   "source": [
    "def cate_word(row, word):\n",
    "    split_question = row['clean_question'].split()\n",
    "    if word in split_question:\n",
    "        if row['high_value']==1:\n",
    "            high_count = 1\n",
    "        else:\n",
    "            high_count = 0\n",
    "    else:\n",
    "        return float('nan')\n",
    "    return high_count\n",
    "observed_expected =[]\n",
    "comparison_terms = list(terms_used)[0:5]\n",
    "print(comparison_terms)\n"
   ]
  },
  {
   "cell_type": "code",
   "execution_count": 9,
   "metadata": {},
   "outputs": [],
   "source": [
    "for term in comparison_terms:\n",
    "    jeopardy['high_count']=jeopardy.apply(lambda x: cate_word(x, term), axis=1)\n",
    "    count_series = jeopardy['high_count'].value_counts()\n",
    "    try:\n",
    "        high_count = count_series.loc[1.0]\n",
    "    except:\n",
    "        high_count = 0\n",
    "    try:\n",
    "        low_count = count_series.loc[0.0]\n",
    "    except:\n",
    "        low_count = 0\n",
    "    observed_expected.append([high_count,low_count])"
   ]
  },
  {
   "cell_type": "code",
   "execution_count": 10,
   "metadata": {},
   "outputs": [
    {
     "name": "stdout",
     "output_type": "stream",
     "text": [
      "[[0, 1], [0, 1], [0, 1], [0, 3], [1, 8]]\n",
      "0.394976464233 0.529695091249\n",
      "0.394976464233 0.529695091249\n",
      "0.394976464233 0.529695091249\n",
      "1.1849293927 0.276354749133\n",
      "1.31225445952 0.251986878548\n"
     ]
    }
   ],
   "source": [
    "from scipy.stats import chisquare\n",
    "high_value_count = jeopardy[jeopardy['high_value']==1].shape[0]\n",
    "low_value_count = jeopardy[jeopardy['high_value']==0].shape[0]\n",
    "chi_squared = []\n",
    "print(observed_expected)\n",
    "for i in observed_expected:\n",
    "    total = i[0]+i[1]\n",
    "    total_prop = total / jeopardy.shape[0]\n",
    "    high_val_expected = total_prop * high_value_count\n",
    "    low_val_expected = total_prop * low_value_count\n",
    "    chisquare_val, p_val = chisquare(i,[high_val_expected,low_val_expected])\n",
    "    print(chisquare_val, p_val)\n",
    "    chi_squared.append(chisquare_val)"
   ]
  },
  {
   "cell_type": "markdown",
   "metadata": {},
   "source": [
    "use Chi-square test to figure out which terms correspond to high-value questions.the null hypothesis is the count of specific repeated term in high value questions is similar to the count of the term repeated in low value questions. I tested 5 terms and none of them rejected the null hypothesis. "
   ]
  },
  {
   "cell_type": "code",
   "execution_count": 14,
   "metadata": {},
   "outputs": [
    {
     "name": "stdout",
     "output_type": "stream",
     "text": [
      "BEFORE & AFTER      547\n",
      "SCIENCE             519\n",
      "LITERATURE          496\n",
      "AMERICAN HISTORY    418\n",
      "POTPOURRI           401\n",
      "Name: Category, dtype: int64\n"
     ]
    }
   ],
   "source": [
    "print(jeopardy['Category'].value_counts().head())"
   ]
  },
  {
   "cell_type": "markdown",
   "metadata": {},
   "source": [
    "The above are 5 most common categories of the jeopardy question database."
   ]
  }
 ],
 "metadata": {
  "kernelspec": {
   "display_name": "Python 3",
   "language": "python",
   "name": "python3"
  },
  "language_info": {
   "codemirror_mode": {
    "name": "ipython",
    "version": 3
   },
   "file_extension": ".py",
   "mimetype": "text/x-python",
   "name": "python",
   "nbconvert_exporter": "python",
   "pygments_lexer": "ipython3",
   "version": "3.6.3"
  }
 },
 "nbformat": 4,
 "nbformat_minor": 1
}
